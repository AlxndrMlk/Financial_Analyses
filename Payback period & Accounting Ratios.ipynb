{
 "cells": [
  {
   "cell_type": "code",
   "execution_count": 1,
   "metadata": {},
   "outputs": [],
   "source": [
    "import numpy as np"
   ]
  },
  {
   "cell_type": "markdown",
   "metadata": {},
   "source": [
    "## Payback period"
   ]
  },
  {
   "cell_type": "markdown",
   "metadata": {},
   "source": [
    "How long will it take to earn back what had been invested?"
   ]
  },
  {
   "cell_type": "markdown",
   "metadata": {},
   "source": [
    "### Ex. 1\n",
    "\n",
    "A project requires an initial investment of \\\\$2,000 upfront. It will produce an annual income of \\\\$1,000 every year for 3 years. Assume a discount rate of 10\\%. What is the above project’s discounted payback period? \n",
    "\n",
    "**Solution:**\n",
    "\n",
    "Discounted year 1 CF = 1000/1.1=909.0909\n",
    "\n",
    "Discounted year 2 CF = 1000/1.1^2=826.4463\n",
    "\n",
    "Discounted year 3 CF = 1000/1.1^3=751.3148\n",
    "\n",
    "2000 - 909.0909 - 826.4463 = 264.4628\n",
    "\n",
    "264.4628 / 751.3148 = 0.352\n",
    "\n",
    "2+0.352=2.352"
   ]
  },
  {
   "cell_type": "code",
   "execution_count": 10,
   "metadata": {},
   "outputs": [
    {
     "data": {
      "text/plain": [
       "2.3520000000000003"
      ]
     },
     "execution_count": 10,
     "metadata": {},
     "output_type": "execute_result"
    }
   ],
   "source": [
    "initial_cost = 2e3\n",
    "return_periods = 3\n",
    "return_per_period = 1e3\n",
    "dr = .1\n",
    "\n",
    "returns = []\n",
    "\n",
    "for t in range(return_periods):\n",
    "    returns.append(return_per_period / (1 + dr)**(t + 1))\n",
    "    \n",
    "len(returns[:-1]) + (initial_cost + np.sum(-1 * np.array(returns[:-1]))) / returns[-1]"
   ]
  },
  {
   "cell_type": "markdown",
   "metadata": {},
   "source": [
    "### Ex. 2\n",
    "\n",
    "Which project would you select based on payback periods assuming the same 5\\% discount rate for both? \n",
    "\n",
    "Project A requires an initial outlay of \\\\$1,000 and provides an annual income of \\\\$500 for 3 years. \n",
    "\n",
    "Project B requires an initial outlay of \\\\$2,000 and yields an annual income of \\\\$900 for 3 years. "
   ]
  },
  {
   "cell_type": "code",
   "execution_count": 2,
   "metadata": {},
   "outputs": [
    {
     "data": {
      "text/plain": [
       "2.16275"
      ]
     },
     "execution_count": 2,
     "metadata": {},
     "output_type": "execute_result"
    }
   ],
   "source": [
    "initial_cost = 1e3\n",
    "return_periods = 3\n",
    "return_per_period = .5e3\n",
    "dr = .05\n",
    "\n",
    "returns = []\n",
    "\n",
    "for t in range(return_periods):\n",
    "    returns.append(return_per_period / (1 + dr)**(t + 1))\n",
    "    \n",
    "len(returns[:-1]) + (initial_cost + np.sum(-1 * np.array(returns[:-1]))) / returns[-1]"
   ]
  },
  {
   "cell_type": "code",
   "execution_count": 3,
   "metadata": {},
   "outputs": [
    {
     "data": {
      "text/plain": [
       "2.4200000000000004"
      ]
     },
     "execution_count": 3,
     "metadata": {},
     "output_type": "execute_result"
    }
   ],
   "source": [
    "initial_cost = 2e3\n",
    "return_periods = 3\n",
    "return_per_period = .9e3\n",
    "dr = .05\n",
    "\n",
    "returns = []\n",
    "\n",
    "for t in range(return_periods):\n",
    "    returns.append(return_per_period / (1 + dr)**(t + 1))\n",
    "    \n",
    "len(returns[:-1]) + (initial_cost + np.sum(-1 * np.array(returns[:-1]))) / returns[-1]"
   ]
  },
  {
   "cell_type": "markdown",
   "metadata": {},
   "source": [
    "## Accounting Ratios\n",
    "\n",
    "Pros:\n",
    "\n",
    "* Reflects the use of capital\n",
    "\n",
    "Cons:\n",
    "\n",
    "* Neglects timing\n",
    "* Includes accountig distortions\n",
    "* Neglects risk"
   ]
  },
  {
   "cell_type": "markdown",
   "metadata": {},
   "source": [
    "- **ROIC** stands for **return on invested capital**"
   ]
  },
  {
   "cell_type": "markdown",
   "metadata": {},
   "source": [
    "### Ex. 2\n",
    "\n",
    "What is the ROI of a project that requires investments of \\\\$500 in each of the first 3 years, and yields an income of \\\\$100, \\\\$75, and \\\\$50 in each of the first 3 years? "
   ]
  },
  {
   "cell_type": "code",
   "execution_count": 12,
   "metadata": {},
   "outputs": [
    {
     "data": {
      "text/plain": [
       "0.15"
      ]
     },
     "execution_count": 12,
     "metadata": {},
     "output_type": "execute_result"
    }
   ],
   "source": [
    "avg_inv = 500\n",
    "avg_inc = 225 / 3\n",
    "\n",
    "roi = avg_inc / avg_inv\n",
    "\n",
    "roi"
   ]
  },
  {
   "cell_type": "code",
   "execution_count": null,
   "metadata": {},
   "outputs": [],
   "source": []
  }
 ],
 "metadata": {
  "kernelspec": {
   "display_name": "Python 3",
   "language": "python",
   "name": "python3"
  },
  "language_info": {
   "codemirror_mode": {
    "name": "ipython",
    "version": 3
   },
   "file_extension": ".py",
   "mimetype": "text/x-python",
   "name": "python",
   "nbconvert_exporter": "python",
   "pygments_lexer": "ipython3",
   "version": "3.6.5"
  }
 },
 "nbformat": 4,
 "nbformat_minor": 4
}
