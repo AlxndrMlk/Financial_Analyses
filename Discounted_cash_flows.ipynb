{
 "cells": [
  {
   "cell_type": "code",
   "execution_count": 87,
   "metadata": {},
   "outputs": [],
   "source": [
    "import numpy as np\n",
    "\n",
    "import matplotlib.pyplot as plt\n",
    "plt.style.use('ggplot')"
   ]
  },
  {
   "cell_type": "code",
   "execution_count": 89,
   "metadata": {},
   "outputs": [],
   "source": [
    "def get_compounded_future_value(curr_v, r, t):\n",
    "    \"\"\"\n",
    "    Inputs:\n",
    "    curr_v <int> or <float>: current value of an asset\n",
    "    r <float>: compound interest\n",
    "    t <int>: number of time steps\n",
    "    \n",
    "    Returns:\n",
    "    future_value <float>: value of an asset after t time steps, assuming compound interest of r\n",
    "    \"\"\"\n",
    "    return curr_v * (1 + r)**t"
   ]
  },
  {
   "cell_type": "code",
   "execution_count": 90,
   "metadata": {},
   "outputs": [],
   "source": [
    "def get_r(curr_v, future_v, t):\n",
    "    \"\"\"\n",
    "    Inputs:\n",
    "    curr_v <int> or <float>: current value of an asset\n",
    "    future_v <int> or <float>: future value of an asset\n",
    "    t <int>: number of time steps\n",
    "    \n",
    "    Returns:\n",
    "    r <float>: value compound interest for each time step t\n",
    "    \"\"\"\n",
    "    return (future_v / curr_v)**(1 / t) - 1"
   ]
  },
  {
   "cell_type": "code",
   "execution_count": 91,
   "metadata": {},
   "outputs": [],
   "source": [
    "def get_discounted_curr_value(future_v, r, t):\n",
    "    \"\"\"\n",
    "    Inputs:\n",
    "    future_v <int> or <float>: future value of an asset\n",
    "    r <float>: compound interest\n",
    "    t <int>: number of time steps\n",
    "    \n",
    "    Returns:\n",
    "    curr_value <float>: today's discounted value of a future asset\n",
    "    \"\"\"\n",
    "    return future_v / (1 + r)**t"
   ]
  },
  {
   "cell_type": "markdown",
   "metadata": {},
   "source": [
    "Imagine we invest in a well. It gives return of $\\$1.50$ per day. What is the real price of a well, taking into account a (yearly) discount factor?"
   ]
  },
  {
   "cell_type": "code",
   "execution_count": 96,
   "metadata": {},
   "outputs": [],
   "source": [
    "cash_flow_per_year = 1.5 * 365\n",
    "discount_rate = .1"
   ]
  },
  {
   "cell_type": "code",
   "execution_count": 97,
   "metadata": {},
   "outputs": [],
   "source": [
    "vals = []\n",
    "t = 1\n",
    "\n",
    "while True:\n",
    "    curr_val = get_discounted_curr_value(cash_flow_per_year, discount_rate, t)\n",
    "    \n",
    "    if curr_val < .01:\n",
    "        break\n",
    "    \n",
    "    vals.append(curr_val)\n",
    "    \n",
    "    t += 1"
   ]
  },
  {
   "cell_type": "code",
   "execution_count": 98,
   "metadata": {},
   "outputs": [
    {
     "name": "stdout",
     "output_type": "stream",
     "text": [
      "The well is worth around 5474.895379205083\n",
      "Return value reached less than USD 0.01 in 114 years\n"
     ]
    }
   ],
   "source": [
    "print(f'The well is worth around {sum(vals)}\\nReturn value reached less than USD 0.01 in {len(vals)} years')"
   ]
  },
  {
   "cell_type": "code",
   "execution_count": 99,
   "metadata": {},
   "outputs": [
    {
     "data": {
      "text/plain": [
       "[<matplotlib.lines.Line2D at 0x27108cfd1d0>]"
      ]
     },
     "execution_count": 99,
     "metadata": {},
     "output_type": "execute_result"
    },
    {
     "data": {
      "image/png": "[encoded data removed]",
      "text/plain": [
       "<Figure size 432x288 with 1 Axes>"
      ]
     },
     "metadata": {},
     "output_type": "display_data"
    }
   ],
   "source": [
    "plt.plot(vals)"
   ]
  },
  {
   "cell_type": "code",
   "execution_count": 105,
   "metadata": {},
   "outputs": [],
   "source": [
    "savings_per_yr = 9000 * 12\n",
    "infl_rate = .03\n",
    "t = 10\n",
    "savings = []\n",
    "\n",
    "for i in range(t):\n",
    "    savings.append(get_discounted_curr_value(savings_per_yr, infl_rate, i))"
   ]
  },
  {
   "cell_type": "code",
   "execution_count": 106,
   "metadata": {},
   "outputs": [
    {
     "data": {
      "text/plain": [
       "[<matplotlib.lines.Line2D at 0x271079ac240>]"
      ]
     },
     "execution_count": 106,
     "metadata": {},
     "output_type": "execute_result"
    },
    {
     "data": {
      "image/png": "[encoded data removed]",
      "text/plain": [
       "<Figure size 432x288 with 1 Axes>"
      ]
     },
     "metadata": {},
     "output_type": "display_data"
    }
   ],
   "source": [
    "plt.plot(savings)"
   ]
  },
  {
   "cell_type": "code",
   "execution_count": 107,
   "metadata": {},
   "outputs": [
    {
     "data": {
      "text/plain": [
       "948899.7635629431"
      ]
     },
     "execution_count": 107,
     "metadata": {},
     "output_type": "execute_result"
    }
   ],
   "source": [
    "sum(savings) #+ get_discounted_curr_value(40000, infl_rate, 7)"
   ]
  },
  {
   "cell_type": "markdown",
   "metadata": {},
   "source": [
    "We have bonds with face value of $\\$100$. Semi-annual coupon rate is equal to $1.25\\%$. Discount facotr is $r = 1.2\\%$. What is DCF of these bonds if $T = 6$?"
   ]
  },
  {
   "cell_type": "code",
   "execution_count": 85,
   "metadata": {},
   "outputs": [
    {
     "data": {
      "text/plain": [
       "100.28779256924156"
      ]
     },
     "execution_count": 85,
     "metadata": {},
     "output_type": "execute_result"
    }
   ],
   "source": [
    "cr = 1.25\n",
    "r = .012\n",
    "fv = 100\n",
    "T = 6\n",
    "\n",
    "vals = []\n",
    "\n",
    "for t in range(T):\n",
    "    if t < T - 1:\n",
    "        vals.append(get_discounted_curr_value(cr, r, t + 1))\n",
    "    else:\n",
    "        vals.append(get_discounted_curr_value(cr + fv, r, t + 1))\n",
    "        \n",
    "sum(vals)"
   ]
  },
  {
   "cell_type": "markdown",
   "metadata": {},
   "source": [
    "## Exercise 2\n",
    "\n",
    "Which choice is the best one?\n",
    "\n",
    "* \\$1000 today\n",
    "* \\$2000 3 yrs from now\n",
    "* \\$3000 10 yrs from now\n",
    "\n",
    "Compute for two discount rates: $5%$ and $10%$"
   ]
  },
  {
   "cell_type": "code",
   "execution_count": 113,
   "metadata": {},
   "outputs": [],
   "source": [
    "# Define the problem (reward, periods)\n",
    "discount_rates = [.05, .1]\n",
    "\n",
    "option_1 = (1000, 0)\n",
    "option_2 = (2000, 3)\n",
    "option_3 = (3000, 10)\n",
    "\n",
    "options = [option_1, option_2, option_3]"
   ]
  },
  {
   "cell_type": "code",
   "execution_count": 116,
   "metadata": {},
   "outputs": [],
   "source": [
    "results = []\n",
    "\n",
    "for dr in discount_rates:\n",
    "    \n",
    "    for option in options:\n",
    "        \n",
    "        reward = option[0]\n",
    "        period = option[1]\n",
    "        \n",
    "        total_reward = get_discounted_curr_value(reward, dr, period)\n",
    "            \n",
    "        results.append((dr, option, total_reward))"
   ]
  },
  {
   "cell_type": "code",
   "execution_count": 145,
   "metadata": {},
   "outputs": [
    {
     "data": {
      "image/png": "[encoded data removed]",
      "text/plain": [
       "<Figure size 864x288 with 1 Axes>"
      ]
     },
     "metadata": {},
     "output_type": "display_data"
    },
    {
     "name": "stdout",
     "output_type": "stream",
     "text": [
      "Initial value: 1000\n",
      "Conditions: (0.05, 0)\n",
      "1000.00\n",
      "\n",
      "Initial value: 2000\n",
      "Conditions: (0.05, 3)\n",
      "1727.68\n",
      "\n",
      "Initial value: 3000\n",
      "Conditions: (0.05, 10)\n",
      "1841.74\n",
      "\n",
      "Initial value: 1000\n",
      "Conditions: (0.1, 0)\n",
      "1000.00\n",
      "\n",
      "Initial value: 2000\n",
      "Conditions: (0.1, 3)\n",
      "1502.63\n",
      "\n",
      "Initial value: 3000\n",
      "Conditions: (0.1, 10)\n",
      "1156.63\n",
      "\n"
     ]
    }
   ],
   "source": [
    "plt.figure(figsize = (12, 4))\n",
    "\n",
    "for result in results:\n",
    "    if result[0] == .05:\n",
    "        color = 'orange'\n",
    "    else:\n",
    "        color = 'blue'\n",
    "    plt.bar(str(result[1][0]), result[2], alpha = .5, color = color, label = f'DR = {result[0]}')\n",
    "    f'{result[2]:0.2f}'\n",
    "    \n",
    "plt.legend()\n",
    "plt.show()\n",
    "\n",
    "for result in results:\n",
    "    print(f'Initial value: {result[1][0]}\\nConditions: {result[0], result[1][1]}\\n{result[2]:0.2f}\\n')"
   ]
  },
  {
   "cell_type": "code",
   "execution_count": null,
   "metadata": {},
   "outputs": [],
   "source": []
  }
 ],
 "metadata": {
  "kernelspec": {
   "display_name": "Python 3",
   "language": "python",
   "name": "python3"
  },
  "language_info": {
   "codemirror_mode": {
    "name": "ipython",
    "version": 3
   },
   "file_extension": ".py",
   "mimetype": "text/x-python",
   "name": "python",
   "nbconvert_exporter": "python",
   "pygments_lexer": "ipython3",
   "version": "3.6.5"
  }
 },
 "nbformat": 4,
 "nbformat_minor": 4
}
