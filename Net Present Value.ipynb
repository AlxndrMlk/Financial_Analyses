{
 "cells": [
  {
   "cell_type": "code",
   "execution_count": 1,
   "metadata": {},
   "outputs": [],
   "source": [
    "import numpy as np"
   ]
  },
  {
   "cell_type": "markdown",
   "metadata": {},
   "source": [
    "# Net Present Value (NPV)"
   ]
  },
  {
   "cell_type": "markdown",
   "metadata": {},
   "source": [
    "**Net Present Value (NPV)** can be calculated using the following formula:\n",
    "\n",
    "$$ \\Large NPV = -IC + \\sum_{t=1}^T \\frac{CF_t}{(1 + DR)^t}$$\n",
    "\n",
    "\n",
    "where:\n",
    "\n",
    "* $IC$ stands for **initial cost**\n",
    "* $CF$ stands for **cashflow**\n",
    "* $DR$ stands for **discount rate**\n",
    "* $t$ denotates time period"
   ]
  },
  {
   "cell_type": "code",
   "execution_count": 9,
   "metadata": {},
   "outputs": [],
   "source": [
    "def get_npv(initial_cost, cashflows, discout_rate, T = None):\n",
    "    returns = 0\n",
    "    \n",
    "    if T is None:\n",
    "        T = len(cashflows)\n",
    "        \n",
    "    for t in range(T):\n",
    "        returns += cashflows[t] / (1 + discout_rate)**(t + 1)\n",
    "    return returns - initial_cost"
   ]
  },
  {
   "cell_type": "code",
   "execution_count": 3,
   "metadata": {},
   "outputs": [
    {
     "name": "stdout",
     "output_type": "stream",
     "text": [
      "NPV = -61.983471074380304\n"
     ]
    }
   ],
   "source": [
    "init_cost = 1.5e3\n",
    "cashflows = [900, 750, 150]\n",
    "dr = .1  # Can be understood as e.g. inflation, but also as an expected return!\n",
    "t = 2\n",
    "\n",
    "print(f'NPV = {get_npv(init_cost, cashflows, dr, t)}')"
   ]
  },
  {
   "cell_type": "markdown",
   "metadata": {},
   "source": [
    "$NPV < 0$, therefore the investment shoud not be made if expected return (incl. all costs) is $10\\%$."
   ]
  },
  {
   "cell_type": "markdown",
   "metadata": {},
   "source": [
    "### Ex. 1\n",
    "\n",
    "What is the NPV of a project that requires an initial outlay of \\\\$1,000 and provides an annual income of \\\\$500 for 3 years? Assume a discount rate of 5\\%, and each annual income is paid at the end of each year. "
   ]
  },
  {
   "cell_type": "code",
   "execution_count": 4,
   "metadata": {},
   "outputs": [
    {
     "data": {
      "text/plain": [
       "361.6240146852392"
      ]
     },
     "execution_count": 4,
     "metadata": {},
     "output_type": "execute_result"
    }
   ],
   "source": [
    "ic = 1e3\n",
    "cashflows = [500] * 3\n",
    "dr = .05\n",
    "t = 3\n",
    "\n",
    "get_npv(ic, cashflows, dr, t)"
   ]
  },
  {
   "cell_type": "markdown",
   "metadata": {},
   "source": [
    "## NPV drivers\n",
    "\n",
    "* cashflow\n",
    "* timing\n",
    "* discount rate"
   ]
  },
  {
   "cell_type": "markdown",
   "metadata": {},
   "source": [
    "### Ex. 2\n",
    "\n",
    "Which project would you select based on NPVs assuming the same $7\\%$ discount rate for both? \n",
    "\n",
    "Project A requires an initial outlay of \\\\$500 and provides an annual income of \\\\$600 for 3 years. \n",
    "\n",
    "Project B requires an initial outlay of \\\\$400 and yields an annual income of \\\\$700 for 3 years."
   ]
  },
  {
   "cell_type": "code",
   "execution_count": 10,
   "metadata": {},
   "outputs": [
    {
     "name": "stdout",
     "output_type": "stream",
     "text": [
      "1074.5896266498398\n",
      "1437.0212310914799\n"
     ]
    }
   ],
   "source": [
    "projects = [\n",
    "    [500, [600]*3],\n",
    "    [400, [700]*3]\n",
    "]\n",
    "\n",
    "for project in projects:\n",
    "    print(get_npv(project[0], project[1], .07, 3))"
   ]
  },
  {
   "cell_type": "markdown",
   "metadata": {},
   "source": [
    "### Ex. 3\n",
    "\n",
    "An initial investment of \\\\$1,500 has cash flows of \\\\$900 in year 1 and \\\\$750 in year 2. \n",
    "\n",
    "Using NPV, do you invest in this project with a discount rate of 10\\%?"
   ]
  },
  {
   "cell_type": "code",
   "execution_count": 12,
   "metadata": {},
   "outputs": [
    {
     "data": {
      "text/plain": [
       "-61.983471074380304"
      ]
     },
     "execution_count": 12,
     "metadata": {},
     "output_type": "execute_result"
    }
   ],
   "source": [
    "get_npv(1500, [900, 750], .10)"
   ]
  },
  {
   "cell_type": "markdown",
   "metadata": {},
   "source": [
    "### Ex 4. \n",
    "\n",
    "Assume an investment costing \\\\$24,869 will earn \\\\$10,000 a year for ten years.  \n",
    "\n",
    "If the discount rate is 10\\%, what is the NPV of this project? "
   ]
  },
  {
   "cell_type": "code",
   "execution_count": 13,
   "metadata": {},
   "outputs": [
    {
     "data": {
      "text/plain": [
       "36576.6710570468"
      ]
     },
     "execution_count": 13,
     "metadata": {},
     "output_type": "execute_result"
    }
   ],
   "source": [
    "get_npv(24869, [10e3]*10, .1)"
   ]
  },
  {
   "cell_type": "markdown",
   "metadata": {},
   "source": [
    "### Ex 5.\n",
    "\n",
    "Which project would you select based on NPVs assuming the same 5\\% discount rate for both? \n",
    "\n",
    "Project A requires an initial outlay of \\\\$1,000 and provides an annual income of \\\\$500 for 3 years. \n",
    "\n",
    "Project B requires an initial outlay of \\\\$2,000 and yields an annual income of \\\\$900 for 3 years. "
   ]
  },
  {
   "cell_type": "code",
   "execution_count": 14,
   "metadata": {},
   "outputs": [
    {
     "name": "stdout",
     "output_type": "stream",
     "text": [
      "361.6240146852392\n",
      "450.9232264334305\n"
     ]
    }
   ],
   "source": [
    "projects = [\n",
    "    [1e3, [500]*3],\n",
    "    [2e3, [900]*3]\n",
    "]\n",
    "\n",
    "for project in projects:\n",
    "    print(get_npv(project[0], project[1], .05))"
   ]
  },
  {
   "cell_type": "code",
   "execution_count": null,
   "metadata": {},
   "outputs": [],
   "source": []
  }
 ],
 "metadata": {
  "kernelspec": {
   "display_name": "Python 3",
   "language": "python",
   "name": "python3"
  },
  "language_info": {
   "codemirror_mode": {
    "name": "ipython",
    "version": 3
   },
   "file_extension": ".py",
   "mimetype": "text/x-python",
   "name": "python",
   "nbconvert_exporter": "python",
   "pygments_lexer": "ipython3",
   "version": "3.6.5"
  }
 },
 "nbformat": 4,
 "nbformat_minor": 4
}
