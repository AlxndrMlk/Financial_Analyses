{
 "cells": [
  {
   "cell_type": "code",
   "execution_count": 1,
   "metadata": {},
   "outputs": [],
   "source": [
    "import numpy as np"
   ]
  },
  {
   "cell_type": "markdown",
   "metadata": {},
   "source": [
    "# Beta, WACC, equity & debt\n",
    "\n",
    "\n",
    "**WACC** stands for [**weighted average cost of capital**](https://www.investopedia.com/terms/w/wacc.asp).\n",
    "\n",
    "**WACC** can be used as a discout rate for internal company projects.\n",
    "\n",
    "It can be computed using the following formula:\n",
    "\n",
    "\n",
    "$$ \\Large WACC = \\frac{E}{D+E}R_e + \\frac{D}{D+E}(1 - t)R_d$$\n",
    "\n",
    "where:\n",
    "\n",
    "* $E$ is **equity value / percent**\n",
    "* $D$ is **debt value / percent**\n",
    "* $R_e$ is **cost of equity**\n",
    "* $R_d$ is **cost of debt**\n",
    "* $t$ is **tax rate**\n",
    "\n",
    "\n",
    "To compute $R_e$ and $R_d$ we can use the following formulas:\n",
    "\n",
    "<br>\n",
    "\n",
    "$$\\Large R_e = RFR + \\beta(e_{premium})$$\n",
    "\n",
    "<br>\n",
    "\n",
    "$$\\Large R_d = RFR + quality\\ spread$$\n",
    "\n",
    "<br>\n",
    "\n",
    "where:\n",
    "\n",
    "$$\\Large \\beta = \\frac{cov(R_i, R_m)}{var(R_m)}$$\n",
    "\n",
    "<br>\n",
    "\n",
    "$$\\Large e_{premium} = R_m - RFR$$\n",
    "\n",
    "where:\n",
    "\n",
    "* $RFR$ is **risk free rate**\n",
    "* $R_m$ is **return on the market**\n",
    "* $R_i$ is **return on a given asset / stock**\n",
    "\n",
    "\n",
    "_______________\n",
    "\n",
    "**NOTE:** tasks in this notebook come from an excellent course [\"Finance for non-finance professionals\"](https://www.coursera.org/learn/finance-for-non-finance) by [James Weston](https://business.rice.edu/person/james-p-weston) at Coursera.\n",
    "\n",
    "_______________\n",
    "\n"
   ]
  },
  {
   "cell_type": "markdown",
   "metadata": {},
   "source": [
    "## Define helpers"
   ]
  },
  {
   "cell_type": "code",
   "execution_count": 2,
   "metadata": {},
   "outputs": [],
   "source": [
    "def get_npv(initial_cost, cashflows, discout_rate, T = None):\n",
    "    returns = 0\n",
    "    \n",
    "    if T is None:\n",
    "        T = len(cashflows)\n",
    "        \n",
    "    for t in range(T):\n",
    "        returns += cashflows[t] / (1 + discout_rate)**(t + 1)\n",
    "    return returns - initial_cost"
   ]
  },
  {
   "cell_type": "code",
   "execution_count": 38,
   "metadata": {},
   "outputs": [],
   "source": [
    "def compute_wacc(e, d, r_e, r_d, tax = 0):\n",
    "    return (e / (d + e))* r_e + (d / (d + e)) * r_d * (1 - tax)"
   ]
  },
  {
   "cell_type": "code",
   "execution_count": 20,
   "metadata": {},
   "outputs": [],
   "source": [
    "def get_beta(r_i, r_m):\n",
    "    return np.cov(r_i, r_m)[0][0] / np.var(r_m)"
   ]
  },
  {
   "cell_type": "markdown",
   "metadata": {},
   "source": [
    "#### Ex 1\n",
    "\n",
    "Equity value of Target is \\\\$40 bln. They have around \\\\$15 bln in long-term debt.\n",
    "They pay 35% of corp. tax. Their beta is $0.6$.\n",
    "\n",
    "Treasury rates are $2.5\\%$ and equity premium is $5.5\\%$\n",
    "\n",
    "They are A-rated with a quality spread of $120bps$ (== $1.2\\%$)"
   ]
  },
  {
   "cell_type": "code",
   "execution_count": 28,
   "metadata": {},
   "outputs": [],
   "source": [
    "# Given\n",
    "e = 40\n",
    "d = 15\n",
    "tax = .35\n",
    "beta = .6\n",
    "rfr = .025\n",
    "eq_p = .055\n",
    "q_sprd = .012"
   ]
  },
  {
   "cell_type": "code",
   "execution_count": 29,
   "metadata": {},
   "outputs": [],
   "source": [
    "# Calculate intermediate vars\n",
    "r_e = rfr + beta * eq_p\n",
    "r_d = rfr + q_sprd"
   ]
  },
  {
   "cell_type": "code",
   "execution_count": 39,
   "metadata": {},
   "outputs": [
    {
     "data": {
      "text/plain": [
       "0.0487409090909091"
      ]
     },
     "execution_count": 39,
     "metadata": {},
     "output_type": "execute_result"
    }
   ],
   "source": [
    "compute_wacc(e, d, r_e, r_d, tax)"
   ]
  },
  {
   "cell_type": "markdown",
   "metadata": {},
   "source": [
    "#### Ex 2\n",
    "\n",
    "Company XYZ has a beta of $1.4$. Assume the Treasury bond rate is $6\\%$, and the risk premium is $8.5\\%$. What is the expected return on XYZ’s stock?"
   ]
  },
  {
   "cell_type": "code",
   "execution_count": 40,
   "metadata": {},
   "outputs": [
    {
     "data": {
      "text/plain": [
       "0.179"
      ]
     },
     "execution_count": 40,
     "metadata": {},
     "output_type": "execute_result"
    }
   ],
   "source": [
    ".06 + 1.4 * .085"
   ]
  },
  {
   "cell_type": "markdown",
   "metadata": {},
   "source": [
    "#### Ex 3\n",
    "\n",
    "A stock has an expected return of 15.3\\%, the risk-free rate is 5\\%, and the market risk premium is 8\\%. What must be the beta of this stock?"
   ]
  },
  {
   "cell_type": "code",
   "execution_count": 41,
   "metadata": {},
   "outputs": [],
   "source": [
    "r_e = .153\n",
    "rfr = .05\n",
    "eq_p = .08"
   ]
  },
  {
   "cell_type": "code",
   "execution_count": 43,
   "metadata": {},
   "outputs": [
    {
     "data": {
      "text/plain": [
       "1.2874999999999999"
      ]
     },
     "execution_count": 43,
     "metadata": {},
     "output_type": "execute_result"
    }
   ],
   "source": [
    "(r_e - rfr) / eq_p"
   ]
  },
  {
   "cell_type": "markdown",
   "metadata": {},
   "source": [
    "#### Ex 4\n",
    "\n",
    "Company XYZ has a target capital structure of 60\\% equity and 40\\% debt. Its cost of equity is 12\\%, and cost of debt is 6\\%. Suppose there is no tax. Should the company take on a project that demands an initial investment of \\\\$600 million, and provides an income of \\\\$800 million in 2 years? How about income in 4 years?"
   ]
  },
  {
   "cell_type": "code",
   "execution_count": 44,
   "metadata": {},
   "outputs": [],
   "source": [
    "e = .6\n",
    "d = .4\n",
    "r_e = .12\n",
    "r_d = .06\n",
    "init = 600\n",
    "inc = 800"
   ]
  },
  {
   "cell_type": "code",
   "execution_count": 47,
   "metadata": {},
   "outputs": [
    {
     "data": {
      "text/plain": [
       "0.096"
      ]
     },
     "execution_count": 47,
     "metadata": {},
     "output_type": "execute_result"
    }
   ],
   "source": [
    "wacc = compute_wacc(e, d, r_e, r_d)\n",
    "wacc"
   ]
  },
  {
   "cell_type": "code",
   "execution_count": 66,
   "metadata": {},
   "outputs": [
    {
     "data": {
      "text/plain": [
       "65.99179498108572"
      ]
     },
     "execution_count": 66,
     "metadata": {},
     "output_type": "execute_result"
    }
   ],
   "source": [
    "- init + (inc / (1 + wacc)**2)"
   ]
  },
  {
   "cell_type": "code",
   "execution_count": 67,
   "metadata": {},
   "outputs": [
    {
     "data": {
      "text/plain": [
       "-45.56866127233934"
      ]
     },
     "execution_count": 67,
     "metadata": {},
     "output_type": "execute_result"
    }
   ],
   "source": [
    "- init + (inc / (1 + wacc)**4)"
   ]
  },
  {
   "cell_type": "markdown",
   "metadata": {},
   "source": [
    "#### Ex 5\n",
    "\n",
    "The total market value of the company stock of XYZ Real Estate Company is \\\\$6 million, and the total value of its debt is \\\\$4 million.  The treasurer estimates that the beta of the stock is currently 1.5 and that the expected risk premium on the market is 9\\%. The Treasury bill rate is 8\\%. Assume the company’s cost of debt equals the risk free rate. Estimate the company’s cost of capital."
   ]
  },
  {
   "cell_type": "code",
   "execution_count": 69,
   "metadata": {},
   "outputs": [],
   "source": [
    "e = 6\n",
    "d = 4\n",
    "beta = 1.5\n",
    "eq_p = .09\n",
    "rfr = .08\n",
    "r_d = .08\n",
    "r_e = rfr + beta * eq_p"
   ]
  },
  {
   "cell_type": "code",
   "execution_count": 70,
   "metadata": {},
   "outputs": [
    {
     "data": {
      "text/plain": [
       "0.161"
      ]
     },
     "execution_count": 70,
     "metadata": {},
     "output_type": "execute_result"
    }
   ],
   "source": [
    "compute_wacc(e, d, r_e, r_d)"
   ]
  },
  {
   "cell_type": "markdown",
   "metadata": {},
   "source": [
    "#### Ex 6\n",
    "\n",
    "Suppose XYZ Real Estate Company now wants to produce computers. The average beta of unlevered computer manufacturers is 1.2. Estimate the required return on XYZ’s new venture."
   ]
  },
  {
   "cell_type": "markdown",
   "metadata": {},
   "source": [
    "Re = 1.2 * (1 + 4/6) = 26%\n",
    "\n",
    "WACC = (E/V)(Re) + (D/V)(Rd) = (6/10)(26%) + (4/10)(8%) = 18.8%"
   ]
  },
  {
   "cell_type": "markdown",
   "metadata": {},
   "source": [
    "#### Ex 7\n",
    "\n",
    "Company ABC has a WACC of 11.2\\%, a cost of equity of 14\\%, and a cost of debt of 5\\%. What is ABC’s debt-equity ratio?"
   ]
  },
  {
   "cell_type": "code",
   "execution_count": 71,
   "metadata": {},
   "outputs": [],
   "source": [
    "wacc = .112\n",
    "r_e = .14\n",
    "r_d = .05"
   ]
  },
  {
   "cell_type": "markdown",
   "metadata": {},
   "source": [
    "$$WACC = R_e * E/(D + E) + R_d * (1 - E / (D + E))$$\n",
    "\n",
    ".112 = .14 * E /(D + E) + .05 * (1 - E / (D + E))\n",
    "\n",
    ".112 = .14 * E / V + .05 * (1 - E / V)\n",
    "\n",
    ".112 = .14 * E/V + .05 - .05 * E/V\n",
    "\n",
    "E/V = (.112 - .05) / .09\n",
    "\n",
    "E/V = .69   =>\tD/V = .31  =>  D/E = 31/69 = .45"
   ]
  },
  {
   "cell_type": "markdown",
   "metadata": {},
   "source": [
    "#### Ex 8\n",
    "\n",
    "Company XYZ has a beta of 1.5. Assume the Treasury bond rate is 7\\%, and the risk premium is 9.5\\%. What is the expected return on XYZ’s stock?"
   ]
  },
  {
   "cell_type": "code",
   "execution_count": 74,
   "metadata": {},
   "outputs": [
    {
     "data": {
      "text/plain": [
       "0.21250000000000002"
      ]
     },
     "execution_count": 74,
     "metadata": {},
     "output_type": "execute_result"
    }
   ],
   "source": [
    "beta = 1.5\n",
    "rfr = .07\n",
    "eq_p = .095\n",
    "\n",
    "rfr + beta * eq_p"
   ]
  },
  {
   "cell_type": "markdown",
   "metadata": {},
   "source": [
    "#### Ex 9\n",
    "\n",
    "A stock has an expected return of 10.2\\%, the risk-free rate is 4\\%, and the market risk premium is 7\\%. What must be the beta of this stock?"
   ]
  },
  {
   "cell_type": "code",
   "execution_count": 75,
   "metadata": {},
   "outputs": [
    {
     "data": {
      "text/plain": [
       "0.8857142857142856"
      ]
     },
     "execution_count": 75,
     "metadata": {},
     "output_type": "execute_result"
    }
   ],
   "source": [
    "r_e = .102\n",
    "rfr = .04\n",
    "eq_p = .07\n",
    "\n",
    "(r_e - rfr) / eq_p"
   ]
  },
  {
   "cell_type": "markdown",
   "metadata": {},
   "source": [
    "#### Ex 10\n",
    "\n",
    "Company XYZ has a target capital structure of 50\\% equity and 50\\% debt. Its cost of equity is 10\\%, and cost of debt is 5\\%. Suppose there is no tax. Should the company take on a project that demands an initial investment of \\\\$500 million, and provides an income of \\\\$600 million in 2 years?"
   ]
  },
  {
   "cell_type": "code",
   "execution_count": 76,
   "metadata": {},
   "outputs": [],
   "source": [
    "e = .5\n",
    "d = .5\n",
    "r_e = .1\n",
    "r_d = .05\n",
    "\n",
    "init = 500\n",
    "inc = 600\n",
    "time = 2"
   ]
  },
  {
   "cell_type": "code",
   "execution_count": 77,
   "metadata": {},
   "outputs": [
    {
     "data": {
      "text/plain": [
       "19.19956733369395"
      ]
     },
     "execution_count": 77,
     "metadata": {},
     "output_type": "execute_result"
    }
   ],
   "source": [
    "wacc = compute_wacc(e, d, r_e, r_d)\n",
    "\n",
    "- init + (inc / (1 + wacc)**2)"
   ]
  },
  {
   "cell_type": "code",
   "execution_count": 78,
   "metadata": {},
   "outputs": [
    {
     "data": {
      "text/plain": [
       "-17.023658294238203"
      ]
     },
     "execution_count": 78,
     "metadata": {},
     "output_type": "execute_result"
    }
   ],
   "source": [
    "# What if the income of $600 million comes in 3 years?\n",
    "\n",
    "- init + (inc / (1 + wacc)**3)"
   ]
  },
  {
   "cell_type": "code",
   "execution_count": null,
   "metadata": {},
   "outputs": [],
   "source": []
  }
 ],
 "metadata": {
  "kernelspec": {
   "display_name": "Python 3",
   "language": "python",
   "name": "python3"
  },
  "language_info": {
   "codemirror_mode": {
    "name": "ipython",
    "version": 3
   },
   "file_extension": ".py",
   "mimetype": "text/x-python",
   "name": "python",
   "nbconvert_exporter": "python",
   "pygments_lexer": "ipython3",
   "version": "3.6.5"
  }
 },
 "nbformat": 4,
 "nbformat_minor": 4
}
