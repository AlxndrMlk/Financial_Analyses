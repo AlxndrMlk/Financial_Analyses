{
 "cells": [
  {
   "cell_type": "code",
   "execution_count": 1,
   "metadata": {},
   "outputs": [],
   "source": [
    "import numpy as np\n",
    "import scipy.optimize as optimize"
   ]
  },
  {
   "cell_type": "markdown",
   "metadata": {},
   "source": [
    "# Internal Rate of Return (IRR)"
   ]
  },
  {
   "cell_type": "markdown",
   "metadata": {},
   "source": [
    "**Net present value (NPV)** is defined as:\n",
    "\n",
    "$$ \\Large NPV = -IC + \\sum_{t=1}^T \\frac{CF_t}{(1 + DR)^t}$$\n",
    "\n",
    "\n",
    "where:\n",
    "\n",
    "* $IC$ stands for **initial cost**\n",
    "* $CF$ stands for **cashflow**\n",
    "* $DR$ stands for **discount rate**\n",
    "* $t$ denotates time period\n",
    "\n",
    "_______________\n",
    "\n",
    "\n",
    "**IRR** is based on a modification of this formula, namely:\n",
    "\n",
    "$$ \\Large 0 = -IC + \\sum_{t=1}^T \\frac{CF_t}{(1 + IRR)^t}$$\n",
    "\n",
    "To solve for it automatically, we'll use `root()` function from `scipy.optimize`."
   ]
  },
  {
   "cell_type": "code",
   "execution_count": 5,
   "metadata": {},
   "outputs": [],
   "source": [
    "def get_npv(initial_cost, cashflows, discout_rate, T = None):\n",
    "    returns = 0\n",
    "    \n",
    "    if T is None:\n",
    "        T = len(cashflows)\n",
    "        \n",
    "    for t in range(T):\n",
    "        returns += cashflows[t] / (1 + discout_rate)**(t + 1)\n",
    "    return returns - initial_cost"
   ]
  },
  {
   "cell_type": "code",
   "execution_count": 11,
   "metadata": {},
   "outputs": [],
   "source": [
    "def get_irr(initial_cost, cashflows, T = None):\n",
    "    f = lambda dr: get_npv(initial_cost, cashflows, dr, T)\n",
    "    r = optimize.root(f, [0])\n",
    "    return r['x']"
   ]
  },
  {
   "cell_type": "code",
   "execution_count": 8,
   "metadata": {},
   "outputs": [
    {
     "data": {
      "text/plain": [
       "array([0.08380008])"
      ]
     },
     "execution_count": 8,
     "metadata": {},
     "output_type": "execute_result"
    }
   ],
   "source": [
    "get_irr(15220, [5e3, 6e3, 7e3], 3)"
   ]
  },
  {
   "cell_type": "markdown",
   "metadata": {},
   "source": [
    "**IRR** has a couple of drawbacks. First, we should always be conscious of sign flips in our cashflows. Second, be aware that there might be more than one IRR. \n",
    "\n",
    "In general, it's good to always put **IRR** next to **NPV**."
   ]
  },
  {
   "cell_type": "markdown",
   "metadata": {},
   "source": [
    "### Ex. 1\n",
    "\n",
    "An initial investment of \\\\$20,000 has a cash inflow of \\\\$50,000 in year 1 and a cash outflow of \\\\$10,000 in year 2. \n",
    "\n",
    "The firm has a cost of capital of 15\\%. Calculate the IRR for this project. Should the firm accept or reject the project?"
   ]
  },
  {
   "cell_type": "code",
   "execution_count": 12,
   "metadata": {},
   "outputs": [
    {
     "data": {
      "text/plain": [
       "array([1.28077641])"
      ]
     },
     "execution_count": 12,
     "metadata": {},
     "output_type": "execute_result"
    }
   ],
   "source": [
    "get_irr(20e3, [50e3, -10e3])"
   ]
  },
  {
   "cell_type": "markdown",
   "metadata": {},
   "source": [
    "They should accept it. 15\\% is much ;ess than 128\\%."
   ]
  },
  {
   "cell_type": "code",
   "execution_count": null,
   "metadata": {},
   "outputs": [],
   "source": []
  }
 ],
 "metadata": {
  "kernelspec": {
   "display_name": "Python 3",
   "language": "python",
   "name": "python3"
  },
  "language_info": {
   "codemirror_mode": {
    "name": "ipython",
    "version": 3
   },
   "file_extension": ".py",
   "mimetype": "text/x-python",
   "name": "python",
   "nbconvert_exporter": "python",
   "pygments_lexer": "ipython3",
   "version": "3.6.5"
  }
 },
 "nbformat": 4,
 "nbformat_minor": 4
}
